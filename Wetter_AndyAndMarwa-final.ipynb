{
 "cells": [
  {
   "cell_type": "markdown",
   "metadata": {},
   "source": [
    "## Datenaufbereitung / Visualisierung\n",
    "Der Wetterdatensatz beinhaltet historische Wetterdaten aus dem Jahr 2012 für Montreal. \n",
    "\n",
    "## Bibliotheken laden\n",
    "Alle notwendigen Bibliotheken für die Bearbeitung der Daten werden importiert."
   ]
  },
  {
   "cell_type": "code",
   "execution_count": 1,
   "metadata": {
    "ExecuteTime": {
     "end_time": "2020-06-19T06:08:06.181400Z",
     "start_time": "2020-06-19T06:07:52.853400Z"
    }
   },
   "outputs": [
    {
     "name": "stderr",
     "output_type": "stream",
     "text": [
      "/anaconda3/lib/python3.6/site-packages/matplotlib/__init__.py:886: MatplotlibDeprecationWarning: \n",
      "examples.directory is deprecated; in the future, examples will be found relative to the 'datapath' directory.\n",
      "  \"found relative to the 'datapath' directory.\".format(key))\n"
     ]
    }
   ],
   "source": [
    "import numpy as np\n",
    "import seaborn as sns\n",
    "import pandas as pd\n",
    "import matplotlib.pyplot as plt\n",
    "from scipy.stats import kendalltau\n",
    "import seaborn as sns"
   ]
  },
  {
   "cell_type": "markdown",
   "metadata": {},
   "source": [
    "## 1. Daten einlesen\n",
    "Der Datensatz wird mithilfe der Bibliothek \"pandas\" eingelesen."
   ]
  },
  {
   "cell_type": "code",
   "execution_count": 2,
   "metadata": {
    "ExecuteTime": {
     "end_time": "2020-06-19T06:08:06.302401Z",
     "start_time": "2020-06-19T06:08:06.187395Z"
    }
   },
   "outputs": [
    {
     "data": {
      "text/html": [
       "<div>\n",
       "<style scoped>\n",
       "    .dataframe tbody tr th:only-of-type {\n",
       "        vertical-align: middle;\n",
       "    }\n",
       "\n",
       "    .dataframe tbody tr th {\n",
       "        vertical-align: top;\n",
       "    }\n",
       "\n",
       "    .dataframe thead th {\n",
       "        text-align: right;\n",
       "    }\n",
       "</style>\n",
       "<table border=\"1\" class=\"dataframe\">\n",
       "  <thead>\n",
       "    <tr style=\"text-align: right;\">\n",
       "      <th></th>\n",
       "      <th>Date/Time</th>\n",
       "      <th>Temp (C)</th>\n",
       "      <th>Dew Point Temp (C)</th>\n",
       "      <th>Rel Hum (%)</th>\n",
       "      <th>Wind Spd (km/h)</th>\n",
       "      <th>Visibility (km)</th>\n",
       "      <th>Stn Press (kPa)</th>\n",
       "      <th>Weather</th>\n",
       "    </tr>\n",
       "  </thead>\n",
       "  <tbody>\n",
       "    <tr>\n",
       "      <th>0</th>\n",
       "      <td>2012-01-01 00:00:00</td>\n",
       "      <td>-1.8</td>\n",
       "      <td>-3.9</td>\n",
       "      <td>86</td>\n",
       "      <td>4</td>\n",
       "      <td>8.0</td>\n",
       "      <td>101.24</td>\n",
       "      <td>Fog</td>\n",
       "    </tr>\n",
       "    <tr>\n",
       "      <th>1</th>\n",
       "      <td>2012-01-01 01:00:00</td>\n",
       "      <td>-1.8</td>\n",
       "      <td>-3.7</td>\n",
       "      <td>87</td>\n",
       "      <td>4</td>\n",
       "      <td>8.0</td>\n",
       "      <td>101.24</td>\n",
       "      <td>Fog</td>\n",
       "    </tr>\n",
       "    <tr>\n",
       "      <th>2</th>\n",
       "      <td>2012-01-01 02:00:00</td>\n",
       "      <td>-1.8</td>\n",
       "      <td>-3.4</td>\n",
       "      <td>89</td>\n",
       "      <td>7</td>\n",
       "      <td>4.0</td>\n",
       "      <td>101.26</td>\n",
       "      <td>Freezing Drizzle,Fog</td>\n",
       "    </tr>\n",
       "    <tr>\n",
       "      <th>3</th>\n",
       "      <td>2012-01-01 03:00:00</td>\n",
       "      <td>-1.5</td>\n",
       "      <td>-3.2</td>\n",
       "      <td>88</td>\n",
       "      <td>6</td>\n",
       "      <td>4.0</td>\n",
       "      <td>101.27</td>\n",
       "      <td>Freezing Drizzle,Fog</td>\n",
       "    </tr>\n",
       "    <tr>\n",
       "      <th>4</th>\n",
       "      <td>2012-01-01 04:00:00</td>\n",
       "      <td>-1.5</td>\n",
       "      <td>-3.3</td>\n",
       "      <td>88</td>\n",
       "      <td>7</td>\n",
       "      <td>4.8</td>\n",
       "      <td>101.23</td>\n",
       "      <td>Fog</td>\n",
       "    </tr>\n",
       "    <tr>\n",
       "      <th>5</th>\n",
       "      <td>2012-01-01 05:00:00</td>\n",
       "      <td>-1.4</td>\n",
       "      <td>-3.3</td>\n",
       "      <td>87</td>\n",
       "      <td>9</td>\n",
       "      <td>6.4</td>\n",
       "      <td>101.27</td>\n",
       "      <td>Fog</td>\n",
       "    </tr>\n",
       "    <tr>\n",
       "      <th>6</th>\n",
       "      <td>2012-01-01 06:00:00</td>\n",
       "      <td>-1.5</td>\n",
       "      <td>-3.1</td>\n",
       "      <td>89</td>\n",
       "      <td>7</td>\n",
       "      <td>6.4</td>\n",
       "      <td>101.29</td>\n",
       "      <td>Fog</td>\n",
       "    </tr>\n",
       "    <tr>\n",
       "      <th>7</th>\n",
       "      <td>2012-01-01 07:00:00</td>\n",
       "      <td>-1.4</td>\n",
       "      <td>-3.6</td>\n",
       "      <td>85</td>\n",
       "      <td>7</td>\n",
       "      <td>8.0</td>\n",
       "      <td>101.26</td>\n",
       "      <td>Fog</td>\n",
       "    </tr>\n",
       "    <tr>\n",
       "      <th>8</th>\n",
       "      <td>2012-01-01 08:00:00</td>\n",
       "      <td>-1.4</td>\n",
       "      <td>-3.6</td>\n",
       "      <td>85</td>\n",
       "      <td>9</td>\n",
       "      <td>8.0</td>\n",
       "      <td>101.23</td>\n",
       "      <td>Fog</td>\n",
       "    </tr>\n",
       "    <tr>\n",
       "      <th>9</th>\n",
       "      <td>2012-01-01 09:00:00</td>\n",
       "      <td>-1.3</td>\n",
       "      <td>-3.1</td>\n",
       "      <td>88</td>\n",
       "      <td>15</td>\n",
       "      <td>4.0</td>\n",
       "      <td>101.20</td>\n",
       "      <td>Fog</td>\n",
       "    </tr>\n",
       "    <tr>\n",
       "      <th>10</th>\n",
       "      <td>2012-01-01 10:00:00</td>\n",
       "      <td>-1.0</td>\n",
       "      <td>-2.3</td>\n",
       "      <td>91</td>\n",
       "      <td>9</td>\n",
       "      <td>1.2</td>\n",
       "      <td>101.15</td>\n",
       "      <td>Fog</td>\n",
       "    </tr>\n",
       "    <tr>\n",
       "      <th>11</th>\n",
       "      <td>2012-01-01 11:00:00</td>\n",
       "      <td>-0.5</td>\n",
       "      <td>-2.1</td>\n",
       "      <td>89</td>\n",
       "      <td>7</td>\n",
       "      <td>4.0</td>\n",
       "      <td>100.98</td>\n",
       "      <td>Fog</td>\n",
       "    </tr>\n",
       "    <tr>\n",
       "      <th>12</th>\n",
       "      <td>2012-01-01 12:00:00</td>\n",
       "      <td>-0.2</td>\n",
       "      <td>-2.0</td>\n",
       "      <td>88</td>\n",
       "      <td>9</td>\n",
       "      <td>4.8</td>\n",
       "      <td>100.79</td>\n",
       "      <td>Fog</td>\n",
       "    </tr>\n",
       "    <tr>\n",
       "      <th>13</th>\n",
       "      <td>2012-01-01 13:00:00</td>\n",
       "      <td>0.2</td>\n",
       "      <td>-1.7</td>\n",
       "      <td>87</td>\n",
       "      <td>13</td>\n",
       "      <td>4.8</td>\n",
       "      <td>100.58</td>\n",
       "      <td>Fog</td>\n",
       "    </tr>\n",
       "    <tr>\n",
       "      <th>14</th>\n",
       "      <td>2012-01-01 14:00:00</td>\n",
       "      <td>0.8</td>\n",
       "      <td>-1.1</td>\n",
       "      <td>87</td>\n",
       "      <td>20</td>\n",
       "      <td>4.8</td>\n",
       "      <td>100.31</td>\n",
       "      <td>Fog</td>\n",
       "    </tr>\n",
       "    <tr>\n",
       "      <th>15</th>\n",
       "      <td>2012-01-01 15:00:00</td>\n",
       "      <td>1.8</td>\n",
       "      <td>-0.4</td>\n",
       "      <td>85</td>\n",
       "      <td>22</td>\n",
       "      <td>6.4</td>\n",
       "      <td>100.07</td>\n",
       "      <td>Fog</td>\n",
       "    </tr>\n",
       "    <tr>\n",
       "      <th>16</th>\n",
       "      <td>2012-01-01 16:00:00</td>\n",
       "      <td>2.6</td>\n",
       "      <td>-0.2</td>\n",
       "      <td>82</td>\n",
       "      <td>13</td>\n",
       "      <td>12.9</td>\n",
       "      <td>99.93</td>\n",
       "      <td>Mostly Cloudy</td>\n",
       "    </tr>\n",
       "    <tr>\n",
       "      <th>17</th>\n",
       "      <td>2012-01-01 17:00:00</td>\n",
       "      <td>3.0</td>\n",
       "      <td>0.0</td>\n",
       "      <td>81</td>\n",
       "      <td>13</td>\n",
       "      <td>16.1</td>\n",
       "      <td>99.81</td>\n",
       "      <td>Cloudy</td>\n",
       "    </tr>\n",
       "    <tr>\n",
       "      <th>18</th>\n",
       "      <td>2012-01-01 18:00:00</td>\n",
       "      <td>3.8</td>\n",
       "      <td>1.0</td>\n",
       "      <td>82</td>\n",
       "      <td>15</td>\n",
       "      <td>12.9</td>\n",
       "      <td>99.74</td>\n",
       "      <td>Rain</td>\n",
       "    </tr>\n",
       "    <tr>\n",
       "      <th>19</th>\n",
       "      <td>2012-01-01 19:00:00</td>\n",
       "      <td>3.1</td>\n",
       "      <td>1.3</td>\n",
       "      <td>88</td>\n",
       "      <td>15</td>\n",
       "      <td>12.9</td>\n",
       "      <td>99.68</td>\n",
       "      <td>Rain</td>\n",
       "    </tr>\n",
       "    <tr>\n",
       "      <th>20</th>\n",
       "      <td>2012-01-01 20:00:00</td>\n",
       "      <td>3.2</td>\n",
       "      <td>1.3</td>\n",
       "      <td>87</td>\n",
       "      <td>19</td>\n",
       "      <td>25.0</td>\n",
       "      <td>99.50</td>\n",
       "      <td>Cloudy</td>\n",
       "    </tr>\n",
       "    <tr>\n",
       "      <th>21</th>\n",
       "      <td>2012-01-01 21:00:00</td>\n",
       "      <td>4.0</td>\n",
       "      <td>1.7</td>\n",
       "      <td>85</td>\n",
       "      <td>20</td>\n",
       "      <td>25.0</td>\n",
       "      <td>99.39</td>\n",
       "      <td>Cloudy</td>\n",
       "    </tr>\n",
       "    <tr>\n",
       "      <th>22</th>\n",
       "      <td>2012-01-01 22:00:00</td>\n",
       "      <td>4.4</td>\n",
       "      <td>1.9</td>\n",
       "      <td>84</td>\n",
       "      <td>24</td>\n",
       "      <td>19.3</td>\n",
       "      <td>99.32</td>\n",
       "      <td>Rain Showers</td>\n",
       "    </tr>\n",
       "    <tr>\n",
       "      <th>23</th>\n",
       "      <td>2012-01-01 23:00:00</td>\n",
       "      <td>5.3</td>\n",
       "      <td>2.0</td>\n",
       "      <td>79</td>\n",
       "      <td>30</td>\n",
       "      <td>25.0</td>\n",
       "      <td>99.31</td>\n",
       "      <td>Cloudy</td>\n",
       "    </tr>\n",
       "  </tbody>\n",
       "</table>\n",
       "</div>"
      ],
      "text/plain": [
       "              Date/Time  Temp (C)  Dew Point Temp (C)  Rel Hum (%)  \\\n",
       "0   2012-01-01 00:00:00      -1.8                -3.9           86   \n",
       "1   2012-01-01 01:00:00      -1.8                -3.7           87   \n",
       "2   2012-01-01 02:00:00      -1.8                -3.4           89   \n",
       "3   2012-01-01 03:00:00      -1.5                -3.2           88   \n",
       "4   2012-01-01 04:00:00      -1.5                -3.3           88   \n",
       "5   2012-01-01 05:00:00      -1.4                -3.3           87   \n",
       "6   2012-01-01 06:00:00      -1.5                -3.1           89   \n",
       "7   2012-01-01 07:00:00      -1.4                -3.6           85   \n",
       "8   2012-01-01 08:00:00      -1.4                -3.6           85   \n",
       "9   2012-01-01 09:00:00      -1.3                -3.1           88   \n",
       "10  2012-01-01 10:00:00      -1.0                -2.3           91   \n",
       "11  2012-01-01 11:00:00      -0.5                -2.1           89   \n",
       "12  2012-01-01 12:00:00      -0.2                -2.0           88   \n",
       "13  2012-01-01 13:00:00       0.2                -1.7           87   \n",
       "14  2012-01-01 14:00:00       0.8                -1.1           87   \n",
       "15  2012-01-01 15:00:00       1.8                -0.4           85   \n",
       "16  2012-01-01 16:00:00       2.6                -0.2           82   \n",
       "17  2012-01-01 17:00:00       3.0                 0.0           81   \n",
       "18  2012-01-01 18:00:00       3.8                 1.0           82   \n",
       "19  2012-01-01 19:00:00       3.1                 1.3           88   \n",
       "20  2012-01-01 20:00:00       3.2                 1.3           87   \n",
       "21  2012-01-01 21:00:00       4.0                 1.7           85   \n",
       "22  2012-01-01 22:00:00       4.4                 1.9           84   \n",
       "23  2012-01-01 23:00:00       5.3                 2.0           79   \n",
       "\n",
       "    Wind Spd (km/h)  Visibility (km)  Stn Press (kPa)               Weather  \n",
       "0                 4              8.0           101.24                   Fog  \n",
       "1                 4              8.0           101.24                   Fog  \n",
       "2                 7              4.0           101.26  Freezing Drizzle,Fog  \n",
       "3                 6              4.0           101.27  Freezing Drizzle,Fog  \n",
       "4                 7              4.8           101.23                   Fog  \n",
       "5                 9              6.4           101.27                   Fog  \n",
       "6                 7              6.4           101.29                   Fog  \n",
       "7                 7              8.0           101.26                   Fog  \n",
       "8                 9              8.0           101.23                   Fog  \n",
       "9                15              4.0           101.20                   Fog  \n",
       "10                9              1.2           101.15                   Fog  \n",
       "11                7              4.0           100.98                   Fog  \n",
       "12                9              4.8           100.79                   Fog  \n",
       "13               13              4.8           100.58                   Fog  \n",
       "14               20              4.8           100.31                   Fog  \n",
       "15               22              6.4           100.07                   Fog  \n",
       "16               13             12.9            99.93         Mostly Cloudy  \n",
       "17               13             16.1            99.81                Cloudy  \n",
       "18               15             12.9            99.74                  Rain  \n",
       "19               15             12.9            99.68                  Rain  \n",
       "20               19             25.0            99.50                Cloudy  \n",
       "21               20             25.0            99.39                Cloudy  \n",
       "22               24             19.3            99.32          Rain Showers  \n",
       "23               30             25.0            99.31                Cloudy  "
      ]
     },
     "execution_count": 2,
     "metadata": {},
     "output_type": "execute_result"
    }
   ],
   "source": [
    "df = pd.read_csv(\"wetterdaten.csv\") \n",
    "df.head(24)"
   ]
  },
  {
   "cell_type": "code",
   "execution_count": 3,
   "metadata": {
    "ExecuteTime": {
     "end_time": "2020-06-19T06:08:06.401399Z",
     "start_time": "2020-06-19T06:08:06.308400Z"
    }
   },
   "outputs": [
    {
     "name": "stdout",
     "output_type": "stream",
     "text": [
      "<class 'pandas.core.frame.DataFrame'>\n",
      "RangeIndex: 8784 entries, 0 to 8783\n",
      "Data columns (total 8 columns):\n",
      "Date/Time             8784 non-null object\n",
      "Temp (C)              8735 non-null float64\n",
      "Dew Point Temp (C)    8784 non-null float64\n",
      "Rel Hum (%)           8784 non-null int64\n",
      "Wind Spd (km/h)       8784 non-null int64\n",
      "Visibility (km)       8784 non-null float64\n",
      "Stn Press (kPa)       8784 non-null float64\n",
      "Weather               8784 non-null object\n",
      "dtypes: float64(4), int64(2), object(2)\n",
      "memory usage: 549.1+ KB\n"
     ]
    }
   ],
   "source": [
    "df.info()"
   ]
  },
  {
   "cell_type": "markdown",
   "metadata": {},
   "source": [
    "## 2. Datenbereinigung\n",
    "Auffällige Werte werden aus diesem Datensatz entfernt (NAs oder Ausreißer).\n",
    "Zu beginn wird eine graphische Darstellung der Werte mithilfe der pandas-Funktion iloc erstellt.\n",
    "Daraufhin werden mögliche Null Values ersetzt und Outliers erfasst.\n",
    "\n",
    "\n"
   ]
  },
  {
   "cell_type": "code",
   "execution_count": 4,
   "metadata": {
    "ExecuteTime": {
     "end_time": "2020-06-19T06:08:14.270395Z",
     "start_time": "2020-06-19T06:08:06.407401Z"
    }
   },
   "outputs": [
    {
     "name": "stderr",
     "output_type": "stream",
     "text": [
      "/anaconda3/lib/python3.6/site-packages/scipy/stats/stats.py:1713: FutureWarning: Using a non-tuple sequence for multidimensional indexing is deprecated; use `arr[tuple(seq)]` instead of `arr[seq]`. In the future this will be interpreted as an array index, `arr[np.array(seq)]`, which will result either in an error or a different result.\n",
      "  return np.add.reduce(sorted[indexer] * weights, axis=axis) / sumval\n",
      "/anaconda3/lib/python3.6/site-packages/seaborn/axisgrid.py:1847: UserWarning: JointGrid annotation is deprecated and will be removed in a future release.\n",
      "  warnings.warn(UserWarning(msg))\n",
      "/anaconda3/lib/python3.6/site-packages/seaborn/axisgrid.py:1847: UserWarning: JointGrid annotation is deprecated and will be removed in a future release.\n",
      "  warnings.warn(UserWarning(msg))\n",
      "/anaconda3/lib/python3.6/site-packages/seaborn/axisgrid.py:1847: UserWarning: JointGrid annotation is deprecated and will be removed in a future release.\n",
      "  warnings.warn(UserWarning(msg))\n",
      "/anaconda3/lib/python3.6/site-packages/seaborn/axisgrid.py:1847: UserWarning: JointGrid annotation is deprecated and will be removed in a future release.\n",
      "  warnings.warn(UserWarning(msg))\n",
      "/anaconda3/lib/python3.6/site-packages/seaborn/axisgrid.py:1847: UserWarning: JointGrid annotation is deprecated and will be removed in a future release.\n",
      "  warnings.warn(UserWarning(msg))\n",
      "/anaconda3/lib/python3.6/site-packages/seaborn/axisgrid.py:1847: UserWarning: JointGrid annotation is deprecated and will be removed in a future release.\n",
      "  warnings.warn(UserWarning(msg))\n"
     ]
    },
    {
     "data": {
      "text/plain": [
       "<seaborn.axisgrid.JointGrid at 0x1a1d1aae10>"
      ]
     },
     "execution_count": 4,
     "metadata": {},
     "output_type": "execute_result"
    },
    {
     "data": {
      "image/png": "[encoded data removed]",
      "text/plain": [
       "<Figure size 432x432 with 3 Axes>"
      ]
     },
     "metadata": {},
     "output_type": "display_data"
    },
    {
     "data": {
      "image/png": "[encoded data removed]",
      "text/plain": [
       "<Figure size 432x432 with 3 Axes>"
      ]
     },
     "metadata": {},
     "output_type": "display_data"
    },
    {
     "data": {
      "image/png": "[encoded data removed]",
      "text/plain": [
       "<Figure size 432x432 with 3 Axes>"
      ]
     },
     "metadata": {},
     "output_type": "display_data"
    },
    {
     "data": {
      "image/png": "[encoded data removed]",
      "text/plain": [
       "<Figure size 432x432 with 3 Axes>"
      ]
     },
     "metadata": {},
     "output_type": "display_data"
    },
    {
     "data": {
      "image/png": "[encoded data removed]",
      "text/plain": [
       "<Figure size 432x432 with 3 Axes>"
      ]
     },
     "metadata": {},
     "output_type": "display_data"
    },
    {
     "data": {
      "image/png": "[encoded data removed]",
      "text/plain": [
       "<Figure size 432x432 with 3 Axes>"
      ]
     },
     "metadata": {},
     "output_type": "display_data"
    }
   ],
   "source": [
    "# df.apply(set)\n",
    "dateTimeColValues = df.iloc[:,0]\n",
    "tempColValues = df.iloc[:,1]\n",
    "dewPointColValues = df.iloc[:,2]\n",
    "relHunColValues = df.iloc[:,3]\n",
    "windSpdColValues = df.iloc[:,4]\n",
    "visibilityColValues = df.iloc[:,5]\n",
    "stnPressColValues = df.iloc[:,6]\n",
    "weatherColValues = df.iloc[:,7]\n",
    "\n",
    "sns.set(style=\"ticks\")\n",
    "\n",
    "sns.jointplot(df.iloc[:,1], df.iloc[:,1], kind=\"hex\", stat_func=kendalltau, color=\"#4CB391\")\n",
    "sns.jointplot(df.iloc[:,2], df.iloc[:,2], kind=\"hex\", stat_func=kendalltau, color=\"#4CB391\")\n",
    "sns.jointplot(df.iloc[:,3], df.iloc[:,3], kind=\"hex\", stat_func=kendalltau, color=\"#4CB391\")\n",
    "sns.jointplot(df.iloc[:,4], df.iloc[:,4], kind=\"hex\", stat_func=kendalltau, color=\"#4CB391\")\n",
    "sns.jointplot(df.iloc[:,5], df.iloc[:,5], kind=\"hex\", stat_func=kendalltau, color=\"#4CB391\")\n",
    "sns.jointplot(df.iloc[:,6], df.iloc[:,6], kind=\"hex\", stat_func=kendalltau, color=\"#4CB391\") \n"
   ]
  },
  {
   "cell_type": "markdown",
   "metadata": {},
   "source": [
    "## 2.1. Fehlende Daten\n",
    "Mögliche Null Values werden durch den Mittelwert (median) ersetzt."
   ]
  },
  {
   "cell_type": "code",
   "execution_count": 5,
   "metadata": {
    "ExecuteTime": {
     "end_time": "2020-06-19T06:08:14.319431Z",
     "start_time": "2020-06-19T06:08:14.274396Z"
    }
   },
   "outputs": [],
   "source": [
    "df = df.fillna(df.median())"
   ]
  },
  {
   "cell_type": "markdown",
   "metadata": {},
   "source": [
    "## 2.2. Outlier handling\n",
    "### Outlier in den Daten bereinigen. \n",
    "In unserem Fall haben wir Ausreißer durch Pseudo-Daten generiert.  \n",
    "Die Ausreißer wurden durch den Mittelwert imputiert."
   ]
  },
  {
   "cell_type": "code",
   "execution_count": 6,
   "metadata": {
    "ExecuteTime": {
     "end_time": "2020-06-19T06:08:14.447396Z",
     "start_time": "2020-06-19T06:08:14.322401Z"
    }
   },
   "outputs": [
    {
     "data": {
      "text/html": [
       "<div>\n",
       "<style scoped>\n",
       "    .dataframe tbody tr th:only-of-type {\n",
       "        vertical-align: middle;\n",
       "    }\n",
       "\n",
       "    .dataframe tbody tr th {\n",
       "        vertical-align: top;\n",
       "    }\n",
       "\n",
       "    .dataframe thead th {\n",
       "        text-align: right;\n",
       "    }\n",
       "</style>\n",
       "<table border=\"1\" class=\"dataframe\">\n",
       "  <thead>\n",
       "    <tr style=\"text-align: right;\">\n",
       "      <th></th>\n",
       "      <th>Temp (C)</th>\n",
       "      <th>Dew Point Temp (C)</th>\n",
       "      <th>Rel Hum (%)</th>\n",
       "      <th>Wind Spd (km/h)</th>\n",
       "      <th>Visibility (km)</th>\n",
       "      <th>Stn Press (kPa)</th>\n",
       "    </tr>\n",
       "  </thead>\n",
       "  <tbody>\n",
       "    <tr>\n",
       "      <th>count</th>\n",
       "      <td>8784.000000</td>\n",
       "      <td>8784.000000</td>\n",
       "      <td>8784.000000</td>\n",
       "      <td>8784.000000</td>\n",
       "      <td>8784.000000</td>\n",
       "      <td>8784.000000</td>\n",
       "    </tr>\n",
       "    <tr>\n",
       "      <th>mean</th>\n",
       "      <td>8.735474</td>\n",
       "      <td>2.555294</td>\n",
       "      <td>67.431694</td>\n",
       "      <td>14.945469</td>\n",
       "      <td>27.664447</td>\n",
       "      <td>101.099438</td>\n",
       "    </tr>\n",
       "    <tr>\n",
       "      <th>std</th>\n",
       "      <td>11.652171</td>\n",
       "      <td>10.883072</td>\n",
       "      <td>16.918881</td>\n",
       "      <td>8.688696</td>\n",
       "      <td>12.622688</td>\n",
       "      <td>6.927972</td>\n",
       "    </tr>\n",
       "    <tr>\n",
       "      <th>min</th>\n",
       "      <td>-23.300000</td>\n",
       "      <td>-28.500000</td>\n",
       "      <td>18.000000</td>\n",
       "      <td>0.000000</td>\n",
       "      <td>0.200000</td>\n",
       "      <td>0.140000</td>\n",
       "    </tr>\n",
       "    <tr>\n",
       "      <th>25%</th>\n",
       "      <td>0.100000</td>\n",
       "      <td>-5.900000</td>\n",
       "      <td>56.000000</td>\n",
       "      <td>9.000000</td>\n",
       "      <td>24.100000</td>\n",
       "      <td>100.550000</td>\n",
       "    </tr>\n",
       "    <tr>\n",
       "      <th>50%</th>\n",
       "      <td>9.200000</td>\n",
       "      <td>3.300000</td>\n",
       "      <td>68.000000</td>\n",
       "      <td>13.000000</td>\n",
       "      <td>25.000000</td>\n",
       "      <td>101.080000</td>\n",
       "    </tr>\n",
       "    <tr>\n",
       "      <th>75%</th>\n",
       "      <td>18.700000</td>\n",
       "      <td>11.800000</td>\n",
       "      <td>81.000000</td>\n",
       "      <td>20.000000</td>\n",
       "      <td>25.000000</td>\n",
       "      <td>101.600000</td>\n",
       "    </tr>\n",
       "    <tr>\n",
       "      <th>max</th>\n",
       "      <td>33.000000</td>\n",
       "      <td>24.400000</td>\n",
       "      <td>100.000000</td>\n",
       "      <td>83.000000</td>\n",
       "      <td>48.300000</td>\n",
       "      <td>201.370000</td>\n",
       "    </tr>\n",
       "  </tbody>\n",
       "</table>\n",
       "</div>"
      ],
      "text/plain": [
       "          Temp (C)  Dew Point Temp (C)  Rel Hum (%)  Wind Spd (km/h)  \\\n",
       "count  8784.000000         8784.000000  8784.000000      8784.000000   \n",
       "mean      8.735474            2.555294    67.431694        14.945469   \n",
       "std      11.652171           10.883072    16.918881         8.688696   \n",
       "min     -23.300000          -28.500000    18.000000         0.000000   \n",
       "25%       0.100000           -5.900000    56.000000         9.000000   \n",
       "50%       9.200000            3.300000    68.000000        13.000000   \n",
       "75%      18.700000           11.800000    81.000000        20.000000   \n",
       "max      33.000000           24.400000   100.000000        83.000000   \n",
       "\n",
       "       Visibility (km)  Stn Press (kPa)  \n",
       "count      8784.000000      8784.000000  \n",
       "mean         27.664447       101.099438  \n",
       "std          12.622688         6.927972  \n",
       "min           0.200000         0.140000  \n",
       "25%          24.100000       100.550000  \n",
       "50%          25.000000       101.080000  \n",
       "75%          25.000000       101.600000  \n",
       "max          48.300000       201.370000  "
      ]
     },
     "execution_count": 6,
     "metadata": {},
     "output_type": "execute_result"
    }
   ],
   "source": [
    "for i in range(0,8):\n",
    "    \n",
    "    if(isinstance(df.iloc[1,i], (int, float, complex))) :\n",
    "\n",
    "        cols = df.iloc[1:,i]\n",
    "        elements = np.array(cols)\n",
    "\n",
    "        mean = np.mean(elements, axis=0)\n",
    "        sd = np.std(elements, axis=0)\n",
    "        \n",
    "        temp = []\n",
    "        for a in cols:\n",
    "            if (a > mean - 2 * sd) :\n",
    "                temp.append(a)\n",
    "            elif (a < mean + 2 * sd):\n",
    "                temp.append(a)\n",
    "            else :\n",
    "                temp.append(mean)\n",
    "        \n",
    "        df.iloc[1:,i] = temp\n",
    "\n",
    "df.describe()\n",
    " "
   ]
  },
  {
   "cell_type": "markdown",
   "metadata": {},
   "source": [
    "## 2.3. Korrelation\n",
    "\n",
    "Die Beziehung (Korrelation) zwischen je zwei Variablen wird visualisiert."
   ]
  },
  {
   "cell_type": "code",
   "execution_count": 7,
   "metadata": {
    "ExecuteTime": {
     "end_time": "2020-06-19T06:08:14.470395Z",
     "start_time": "2020-06-19T06:08:14.450396Z"
    }
   },
   "outputs": [
    {
     "data": {
      "text/html": [
       "<div>\n",
       "<style scoped>\n",
       "    .dataframe tbody tr th:only-of-type {\n",
       "        vertical-align: middle;\n",
       "    }\n",
       "\n",
       "    .dataframe tbody tr th {\n",
       "        vertical-align: top;\n",
       "    }\n",
       "\n",
       "    .dataframe thead th {\n",
       "        text-align: right;\n",
       "    }\n",
       "</style>\n",
       "<table border=\"1\" class=\"dataframe\">\n",
       "  <thead>\n",
       "    <tr style=\"text-align: right;\">\n",
       "      <th></th>\n",
       "      <th>Temp (C)</th>\n",
       "      <th>Dew Point Temp (C)</th>\n",
       "      <th>Rel Hum (%)</th>\n",
       "      <th>Wind Spd (km/h)</th>\n",
       "      <th>Visibility (km)</th>\n",
       "      <th>Stn Press (kPa)</th>\n",
       "    </tr>\n",
       "  </thead>\n",
       "  <tbody>\n",
       "    <tr>\n",
       "      <th>Temp (C)</th>\n",
       "      <td>1.000000</td>\n",
       "      <td>0.928953</td>\n",
       "      <td>-0.222005</td>\n",
       "      <td>-0.061436</td>\n",
       "      <td>0.275635</td>\n",
       "      <td>-0.153054</td>\n",
       "    </tr>\n",
       "    <tr>\n",
       "      <th>Dew Point Temp (C)</th>\n",
       "      <td>0.928953</td>\n",
       "      <td>1.000000</td>\n",
       "      <td>0.139494</td>\n",
       "      <td>-0.095685</td>\n",
       "      <td>0.050813</td>\n",
       "      <td>-0.143888</td>\n",
       "    </tr>\n",
       "    <tr>\n",
       "      <th>Rel Hum (%)</th>\n",
       "      <td>-0.222005</td>\n",
       "      <td>0.139494</td>\n",
       "      <td>1.000000</td>\n",
       "      <td>-0.092743</td>\n",
       "      <td>-0.633683</td>\n",
       "      <td>0.042209</td>\n",
       "    </tr>\n",
       "    <tr>\n",
       "      <th>Wind Spd (km/h)</th>\n",
       "      <td>-0.061436</td>\n",
       "      <td>-0.095685</td>\n",
       "      <td>-0.092743</td>\n",
       "      <td>1.000000</td>\n",
       "      <td>0.004883</td>\n",
       "      <td>-0.002792</td>\n",
       "    </tr>\n",
       "    <tr>\n",
       "      <th>Visibility (km)</th>\n",
       "      <td>0.275635</td>\n",
       "      <td>0.050813</td>\n",
       "      <td>-0.633683</td>\n",
       "      <td>0.004883</td>\n",
       "      <td>1.000000</td>\n",
       "      <td>0.007722</td>\n",
       "    </tr>\n",
       "    <tr>\n",
       "      <th>Stn Press (kPa)</th>\n",
       "      <td>-0.153054</td>\n",
       "      <td>-0.143888</td>\n",
       "      <td>0.042209</td>\n",
       "      <td>-0.002792</td>\n",
       "      <td>0.007722</td>\n",
       "      <td>1.000000</td>\n",
       "    </tr>\n",
       "  </tbody>\n",
       "</table>\n",
       "</div>"
      ],
      "text/plain": [
       "                    Temp (C)  Dew Point Temp (C)  Rel Hum (%)  \\\n",
       "Temp (C)            1.000000            0.928953    -0.222005   \n",
       "Dew Point Temp (C)  0.928953            1.000000     0.139494   \n",
       "Rel Hum (%)        -0.222005            0.139494     1.000000   \n",
       "Wind Spd (km/h)    -0.061436           -0.095685    -0.092743   \n",
       "Visibility (km)     0.275635            0.050813    -0.633683   \n",
       "Stn Press (kPa)    -0.153054           -0.143888     0.042209   \n",
       "\n",
       "                    Wind Spd (km/h)  Visibility (km)  Stn Press (kPa)  \n",
       "Temp (C)                  -0.061436         0.275635        -0.153054  \n",
       "Dew Point Temp (C)        -0.095685         0.050813        -0.143888  \n",
       "Rel Hum (%)               -0.092743        -0.633683         0.042209  \n",
       "Wind Spd (km/h)            1.000000         0.004883        -0.002792  \n",
       "Visibility (km)            0.004883         1.000000         0.007722  \n",
       "Stn Press (kPa)           -0.002792         0.007722         1.000000  "
      ]
     },
     "execution_count": 7,
     "metadata": {},
     "output_type": "execute_result"
    }
   ],
   "source": [
    "df.corr() "
   ]
  },
  {
   "cell_type": "markdown",
   "metadata": {},
   "source": [
    "## 2.4. Datenaggregation\n",
    "Die Mininmal-, Maximal und Durchschnittswerte der numerischen Spalten pro Tag werden ermittelt."
   ]
  },
  {
   "cell_type": "code",
   "execution_count": 8,
   "metadata": {
    "ExecuteTime": {
     "end_time": "2020-06-19T06:08:14.545397Z",
     "start_time": "2020-06-19T06:08:14.476401Z"
    }
   },
   "outputs": [
    {
     "data": {
      "text/html": [
       "<div>\n",
       "<style scoped>\n",
       "    .dataframe tbody tr th:only-of-type {\n",
       "        vertical-align: middle;\n",
       "    }\n",
       "\n",
       "    .dataframe tbody tr th {\n",
       "        vertical-align: top;\n",
       "    }\n",
       "\n",
       "    .dataframe thead th {\n",
       "        text-align: right;\n",
       "    }\n",
       "</style>\n",
       "<table border=\"1\" class=\"dataframe\">\n",
       "  <thead>\n",
       "    <tr style=\"text-align: right;\">\n",
       "      <th></th>\n",
       "      <th>Temp (C)</th>\n",
       "      <th>Dew Point Temp (C)</th>\n",
       "      <th>Visibility (km)</th>\n",
       "      <th>Stn Press (kPa)</th>\n",
       "    </tr>\n",
       "  </thead>\n",
       "  <tbody>\n",
       "    <tr>\n",
       "      <th>mean</th>\n",
       "      <td>8.735474</td>\n",
       "      <td>2.555294</td>\n",
       "      <td>27.664447</td>\n",
       "      <td>101.099438</td>\n",
       "    </tr>\n",
       "    <tr>\n",
       "      <th>min</th>\n",
       "      <td>-23.300000</td>\n",
       "      <td>-28.500000</td>\n",
       "      <td>0.200000</td>\n",
       "      <td>0.140000</td>\n",
       "    </tr>\n",
       "    <tr>\n",
       "      <th>max</th>\n",
       "      <td>33.000000</td>\n",
       "      <td>24.400000</td>\n",
       "      <td>48.300000</td>\n",
       "      <td>201.370000</td>\n",
       "    </tr>\n",
       "  </tbody>\n",
       "</table>\n",
       "</div>"
      ],
      "text/plain": [
       "       Temp (C)  Dew Point Temp (C)  Visibility (km)  Stn Press (kPa)\n",
       "mean   8.735474            2.555294        27.664447       101.099438\n",
       "min  -23.300000          -28.500000         0.200000         0.140000\n",
       "max   33.000000           24.400000        48.300000       201.370000"
      ]
     },
     "execution_count": 8,
     "metadata": {},
     "output_type": "execute_result"
    }
   ],
   "source": [
    "df.describe() \n",
    "neu = {}\n",
    "\n",
    "for i in range(0,8):\n",
    "    if(isinstance(df.iloc[1,i], (int, float, complex))) :  \n",
    "        neu[list(df)[i]] = { 'mean': np.mean(df.iloc[:,i]) , 'min' : df.iloc[:,i].min(), 'max' : df.iloc[:,i].max() }\n",
    "\n",
    "t = pd.DataFrame(neu)\n",
    "t"
   ]
  },
  {
   "cell_type": "markdown",
   "metadata": {},
   "source": [
    "Die tägliche Durschnittstemperatur über den Jahresverlauf wird visualisiert. "
   ]
  },
  {
   "cell_type": "code",
   "execution_count": 9,
   "metadata": {
    "ExecuteTime": {
     "end_time": "2020-06-19T06:08:14.808397Z",
     "start_time": "2020-06-19T06:08:14.550399Z"
    }
   },
   "outputs": [
    {
     "name": "stderr",
     "output_type": "stream",
     "text": [
      "/anaconda3/lib/python3.6/site-packages/pandas/plotting/_matplotlib/converter.py:103: FutureWarning: Using an implicitly registered datetime converter for a matplotlib plotting method. The converter was registered by pandas on import. Future versions of pandas will require you to explicitly register matplotlib converters.\n",
      "\n",
      "To register the converters:\n",
      "\t>>> from pandas.plotting import register_matplotlib_converters\n",
      "\t>>> register_matplotlib_converters()\n",
      "  warnings.warn(msg, FutureWarning)\n"
     ]
    },
    {
     "data": {
      "text/plain": [
       "Text(0.5, 0, 'Date/Time')"
      ]
     },
     "execution_count": 9,
     "metadata": {},
     "output_type": "execute_result"
    },
    {
     "data": {
      "image/png": "[encoded data removed]",
      "text/plain": [
       "<Figure size 432x288 with 1 Axes>"
      ]
     },
     "metadata": {},
     "output_type": "display_data"
    }
   ],
   "source": [
    "df.index = pd.to_datetime(df['Date/Time'])\n",
    "\n",
    "df['Temp (C)'].resample('D').mean()\n",
    "\n",
    "\n",
    "\n",
    "fig, ax = plt.subplots()\n",
    "ax.plot(df.index, df['Temp (C)'])\n",
    "plt.ylabel('Temp (C)')\n",
    "plt.xlabel('Date/Time')"
   ]
  },
  {
   "cell_type": "code",
   "execution_count": 10,
   "metadata": {
    "ExecuteTime": {
     "end_time": "2020-06-19T06:08:14.835397Z",
     "start_time": "2020-06-19T06:08:14.811400Z"
    }
   },
   "outputs": [
    {
     "data": {
      "text/html": [
       "<div>\n",
       "<style scoped>\n",
       "    .dataframe tbody tr th:only-of-type {\n",
       "        vertical-align: middle;\n",
       "    }\n",
       "\n",
       "    .dataframe tbody tr th {\n",
       "        vertical-align: top;\n",
       "    }\n",
       "\n",
       "    .dataframe thead th {\n",
       "        text-align: right;\n",
       "    }\n",
       "</style>\n",
       "<table border=\"1\" class=\"dataframe\">\n",
       "  <thead>\n",
       "    <tr style=\"text-align: right;\">\n",
       "      <th></th>\n",
       "      <th>Temp (C)</th>\n",
       "    </tr>\n",
       "    <tr>\n",
       "      <th>Date/Time</th>\n",
       "      <th></th>\n",
       "    </tr>\n",
       "  </thead>\n",
       "  <tbody>\n",
       "    <tr>\n",
       "      <th>2012-01-01</th>\n",
       "      <td>0.629167</td>\n",
       "    </tr>\n",
       "    <tr>\n",
       "      <th>2012-01-02</th>\n",
       "      <td>0.041667</td>\n",
       "    </tr>\n",
       "    <tr>\n",
       "      <th>2012-01-03</th>\n",
       "      <td>-14.416667</td>\n",
       "    </tr>\n",
       "    <tr>\n",
       "      <th>2012-01-04</th>\n",
       "      <td>-13.645833</td>\n",
       "    </tr>\n",
       "    <tr>\n",
       "      <th>2012-01-05</th>\n",
       "      <td>-6.750000</td>\n",
       "    </tr>\n",
       "    <tr>\n",
       "      <th>...</th>\n",
       "      <td>...</td>\n",
       "    </tr>\n",
       "    <tr>\n",
       "      <th>2012-12-27</th>\n",
       "      <td>-5.833333</td>\n",
       "    </tr>\n",
       "    <tr>\n",
       "      <th>2012-12-28</th>\n",
       "      <td>-6.775000</td>\n",
       "    </tr>\n",
       "    <tr>\n",
       "      <th>2012-12-29</th>\n",
       "      <td>-11.345833</td>\n",
       "    </tr>\n",
       "    <tr>\n",
       "      <th>2012-12-30</th>\n",
       "      <td>-11.370833</td>\n",
       "    </tr>\n",
       "    <tr>\n",
       "      <th>2012-12-31</th>\n",
       "      <td>-5.604167</td>\n",
       "    </tr>\n",
       "  </tbody>\n",
       "</table>\n",
       "<p>366 rows × 1 columns</p>\n",
       "</div>"
      ],
      "text/plain": [
       "             Temp (C)\n",
       "Date/Time            \n",
       "2012-01-01   0.629167\n",
       "2012-01-02   0.041667\n",
       "2012-01-03 -14.416667\n",
       "2012-01-04 -13.645833\n",
       "2012-01-05  -6.750000\n",
       "...               ...\n",
       "2012-12-27  -5.833333\n",
       "2012-12-28  -6.775000\n",
       "2012-12-29 -11.345833\n",
       "2012-12-30 -11.370833\n",
       "2012-12-31  -5.604167\n",
       "\n",
       "[366 rows x 1 columns]"
      ]
     },
     "execution_count": 10,
     "metadata": {},
     "output_type": "execute_result"
    }
   ],
   "source": [
    "date_Temp_matrix = df[['Temp (C)']].resample('D').mean()\n",
    "date_Temp_matrix"
   ]
  },
  {
   "cell_type": "markdown",
   "metadata": {},
   "source": [
    "## 2.5. Kategorisierung der Windstärke\n",
    "Die Windstärke wird oftmals in Kategorien der Beaufort-Skala angegeben. Daher werden in einer neuen Variablen die numerischen Werte der maximalen Windgeschwindigkeit in Kategorien der Beaufort-Skala umgewandelt. \n",
    "Das Diagramm stellt die Anzahl der Tage je Kategorie dar."
   ]
  },
  {
   "cell_type": "code",
   "execution_count": 11,
   "metadata": {
    "ExecuteTime": {
     "end_time": "2020-06-19T06:08:15.098395Z",
     "start_time": "2020-06-19T06:08:14.839396Z"
    }
   },
   "outputs": [
    {
     "data": {
      "text/plain": [
       "Text(0.5, 0, 'Wind Spd (km/h)')"
      ]
     },
     "execution_count": 11,
     "metadata": {},
     "output_type": "execute_result"
    },
    {
     "data": {
      "image/png": "[encoded data removed]",
      "text/plain": [
       "<Figure size 432x288 with 1 Axes>"
      ]
     },
     "metadata": {},
     "output_type": "display_data"
    }
   ],
   "source": [
    "# Stufe 0    0\n",
    "# Stufe 1    1 − 5\n",
    "# Stufe 2    6 − 11\n",
    "# Stufe 3    12 − 19\n",
    "# Stufe 4    20 − 28\n",
    "# Stufe 5    29 − 38\n",
    "# Stufe 6    39 − 49\n",
    "# Stufe 7    50 − 61\n",
    "# Stufe 8    62 − 74\n",
    "# Stufe 9    75 − 88\n",
    "\n",
    "columnName = 'Wind Spd (km/h)'\n",
    "daysMaxValues = df[columnName].resample('D').max()\n",
    "bins= [0,1,6,12,20,29,39,50,62,75,89]\n",
    "categories = pd.cut(daysMaxValues, bins)\n",
    "df_cat = pd.DataFrame(categories)\n",
    "df_cat.groupby(columnName)[columnName].count()\n",
    "\n",
    "plt.hist(daysMaxValues, bins = bins)\n",
    "plt.ylabel('MaxDaysValue')\n",
    "plt.xlabel('Wind Spd (km/h)')"
   ]
  },
  {
   "cell_type": "markdown",
   "metadata": {},
   "source": [
    "## 2.6. Ermittlung des Wetters \n",
    "Die Spalte 'Weather' des Originaldataframes ist string-codiert. Daher werden die einzelnen Zellen, nach Wetterphänomenen gesplitted und die Häufigkeiten werden aufgezählt. \n",
    "Die fehlende Wert werden behandelt.\n",
    "Dieser Datensatz wird mit dem vorherigen Datensatz (der die aggregierten Werten enthält) gejoint. "
   ]
  },
  {
   "cell_type": "code",
   "execution_count": 12,
   "metadata": {
    "ExecuteTime": {
     "end_time": "2020-06-19T06:08:18.869916Z",
     "start_time": "2020-06-19T06:08:15.102398Z"
    }
   },
   "outputs": [],
   "source": [
    "weather = [[df.index[x].floor('D'), df['Weather'].iloc[x].split(',')] for x in range(len(df))]\n",
    "dict_weather={}\n",
    "for i in range(len(df)-1):\n",
    "    for value in weather[i][1]:\n",
    "        try:\n",
    "            dict_weather[weather[i][0]].append(value)\n",
    "        except KeyError:\n",
    "            dict_weather[weather[i][0]] = [value]\n",
    "\n",
    "weather_counts={}\n",
    "for day in dict_weather.keys():\n",
    "    count_weather_day = {}\n",
    "    for value in dict_weather[day]:\n",
    "        count_weather_day[value] = count_weather_day.get(value, 0) + 1\n",
    "    weather_counts[day]=count_weather_day\n",
    "\n",
    "df_weather=pd.DataFrame(weather_counts).T"
   ]
  },
  {
   "cell_type": "code",
   "execution_count": 13,
   "metadata": {
    "ExecuteTime": {
     "end_time": "2020-06-19T06:08:18.939917Z",
     "start_time": "2020-06-19T06:08:18.872925Z"
    }
   },
   "outputs": [
    {
     "data": {
      "text/html": [
       "<div>\n",
       "<style scoped>\n",
       "    .dataframe tbody tr th:only-of-type {\n",
       "        vertical-align: middle;\n",
       "    }\n",
       "\n",
       "    .dataframe tbody tr th {\n",
       "        vertical-align: top;\n",
       "    }\n",
       "\n",
       "    .dataframe thead th {\n",
       "        text-align: right;\n",
       "    }\n",
       "</style>\n",
       "<table border=\"1\" class=\"dataframe\">\n",
       "  <thead>\n",
       "    <tr style=\"text-align: right;\">\n",
       "      <th></th>\n",
       "      <th>Fog</th>\n",
       "      <th>Freezing Drizzle</th>\n",
       "      <th>Mostly Cloudy</th>\n",
       "      <th>Cloudy</th>\n",
       "      <th>Rain</th>\n",
       "      <th>Rain Showers</th>\n",
       "      <th>Mainly Clear</th>\n",
       "      <th>Snow Showers</th>\n",
       "      <th>Snow</th>\n",
       "      <th>Clear</th>\n",
       "      <th>...</th>\n",
       "      <th>Blowing Snow</th>\n",
       "      <th>Freezing Fog</th>\n",
       "      <th>Haze</th>\n",
       "      <th>Drizzle</th>\n",
       "      <th>Ice Pellets</th>\n",
       "      <th>Thunderstorms</th>\n",
       "      <th>Heavy Rain Showers</th>\n",
       "      <th>Moderate Rain Showers</th>\n",
       "      <th>Snow Pellets</th>\n",
       "      <th>Moderate Rain</th>\n",
       "    </tr>\n",
       "  </thead>\n",
       "  <tbody>\n",
       "    <tr>\n",
       "      <th>2012-01-01</th>\n",
       "      <td>16.0</td>\n",
       "      <td>2.0</td>\n",
       "      <td>1.0</td>\n",
       "      <td>4.0</td>\n",
       "      <td>2.0</td>\n",
       "      <td>1.0</td>\n",
       "      <td>NaN</td>\n",
       "      <td>NaN</td>\n",
       "      <td>NaN</td>\n",
       "      <td>NaN</td>\n",
       "      <td>...</td>\n",
       "      <td>NaN</td>\n",
       "      <td>NaN</td>\n",
       "      <td>NaN</td>\n",
       "      <td>NaN</td>\n",
       "      <td>NaN</td>\n",
       "      <td>NaN</td>\n",
       "      <td>NaN</td>\n",
       "      <td>NaN</td>\n",
       "      <td>NaN</td>\n",
       "      <td>NaN</td>\n",
       "    </tr>\n",
       "    <tr>\n",
       "      <th>2012-01-02</th>\n",
       "      <td>NaN</td>\n",
       "      <td>NaN</td>\n",
       "      <td>16.0</td>\n",
       "      <td>2.0</td>\n",
       "      <td>NaN</td>\n",
       "      <td>1.0</td>\n",
       "      <td>1.0</td>\n",
       "      <td>4.0</td>\n",
       "      <td>NaN</td>\n",
       "      <td>NaN</td>\n",
       "      <td>...</td>\n",
       "      <td>NaN</td>\n",
       "      <td>NaN</td>\n",
       "      <td>NaN</td>\n",
       "      <td>NaN</td>\n",
       "      <td>NaN</td>\n",
       "      <td>NaN</td>\n",
       "      <td>NaN</td>\n",
       "      <td>NaN</td>\n",
       "      <td>NaN</td>\n",
       "      <td>NaN</td>\n",
       "    </tr>\n",
       "    <tr>\n",
       "      <th>2012-01-03</th>\n",
       "      <td>NaN</td>\n",
       "      <td>NaN</td>\n",
       "      <td>6.0</td>\n",
       "      <td>3.0</td>\n",
       "      <td>NaN</td>\n",
       "      <td>NaN</td>\n",
       "      <td>8.0</td>\n",
       "      <td>5.0</td>\n",
       "      <td>1.0</td>\n",
       "      <td>1.0</td>\n",
       "      <td>...</td>\n",
       "      <td>NaN</td>\n",
       "      <td>NaN</td>\n",
       "      <td>NaN</td>\n",
       "      <td>NaN</td>\n",
       "      <td>NaN</td>\n",
       "      <td>NaN</td>\n",
       "      <td>NaN</td>\n",
       "      <td>NaN</td>\n",
       "      <td>NaN</td>\n",
       "      <td>NaN</td>\n",
       "    </tr>\n",
       "    <tr>\n",
       "      <th>2012-01-04</th>\n",
       "      <td>NaN</td>\n",
       "      <td>NaN</td>\n",
       "      <td>5.0</td>\n",
       "      <td>3.0</td>\n",
       "      <td>NaN</td>\n",
       "      <td>NaN</td>\n",
       "      <td>5.0</td>\n",
       "      <td>NaN</td>\n",
       "      <td>11.0</td>\n",
       "      <td>NaN</td>\n",
       "      <td>...</td>\n",
       "      <td>NaN</td>\n",
       "      <td>NaN</td>\n",
       "      <td>NaN</td>\n",
       "      <td>NaN</td>\n",
       "      <td>NaN</td>\n",
       "      <td>NaN</td>\n",
       "      <td>NaN</td>\n",
       "      <td>NaN</td>\n",
       "      <td>NaN</td>\n",
       "      <td>NaN</td>\n",
       "    </tr>\n",
       "    <tr>\n",
       "      <th>2012-01-05</th>\n",
       "      <td>NaN</td>\n",
       "      <td>NaN</td>\n",
       "      <td>NaN</td>\n",
       "      <td>2.0</td>\n",
       "      <td>NaN</td>\n",
       "      <td>NaN</td>\n",
       "      <td>9.0</td>\n",
       "      <td>NaN</td>\n",
       "      <td>9.0</td>\n",
       "      <td>4.0</td>\n",
       "      <td>...</td>\n",
       "      <td>NaN</td>\n",
       "      <td>NaN</td>\n",
       "      <td>NaN</td>\n",
       "      <td>NaN</td>\n",
       "      <td>NaN</td>\n",
       "      <td>NaN</td>\n",
       "      <td>NaN</td>\n",
       "      <td>NaN</td>\n",
       "      <td>NaN</td>\n",
       "      <td>NaN</td>\n",
       "    </tr>\n",
       "    <tr>\n",
       "      <th>...</th>\n",
       "      <td>...</td>\n",
       "      <td>...</td>\n",
       "      <td>...</td>\n",
       "      <td>...</td>\n",
       "      <td>...</td>\n",
       "      <td>...</td>\n",
       "      <td>...</td>\n",
       "      <td>...</td>\n",
       "      <td>...</td>\n",
       "      <td>...</td>\n",
       "      <td>...</td>\n",
       "      <td>...</td>\n",
       "      <td>...</td>\n",
       "      <td>...</td>\n",
       "      <td>...</td>\n",
       "      <td>...</td>\n",
       "      <td>...</td>\n",
       "      <td>...</td>\n",
       "      <td>...</td>\n",
       "      <td>...</td>\n",
       "      <td>...</td>\n",
       "    </tr>\n",
       "    <tr>\n",
       "      <th>2012-12-27</th>\n",
       "      <td>NaN</td>\n",
       "      <td>2.0</td>\n",
       "      <td>NaN</td>\n",
       "      <td>3.0</td>\n",
       "      <td>NaN</td>\n",
       "      <td>NaN</td>\n",
       "      <td>NaN</td>\n",
       "      <td>NaN</td>\n",
       "      <td>17.0</td>\n",
       "      <td>NaN</td>\n",
       "      <td>...</td>\n",
       "      <td>10.0</td>\n",
       "      <td>NaN</td>\n",
       "      <td>NaN</td>\n",
       "      <td>NaN</td>\n",
       "      <td>NaN</td>\n",
       "      <td>NaN</td>\n",
       "      <td>NaN</td>\n",
       "      <td>NaN</td>\n",
       "      <td>NaN</td>\n",
       "      <td>NaN</td>\n",
       "    </tr>\n",
       "    <tr>\n",
       "      <th>2012-12-28</th>\n",
       "      <td>NaN</td>\n",
       "      <td>3.0</td>\n",
       "      <td>2.0</td>\n",
       "      <td>3.0</td>\n",
       "      <td>NaN</td>\n",
       "      <td>NaN</td>\n",
       "      <td>13.0</td>\n",
       "      <td>NaN</td>\n",
       "      <td>5.0</td>\n",
       "      <td>1.0</td>\n",
       "      <td>...</td>\n",
       "      <td>NaN</td>\n",
       "      <td>NaN</td>\n",
       "      <td>NaN</td>\n",
       "      <td>NaN</td>\n",
       "      <td>NaN</td>\n",
       "      <td>NaN</td>\n",
       "      <td>NaN</td>\n",
       "      <td>NaN</td>\n",
       "      <td>NaN</td>\n",
       "      <td>NaN</td>\n",
       "    </tr>\n",
       "    <tr>\n",
       "      <th>2012-12-29</th>\n",
       "      <td>19.0</td>\n",
       "      <td>NaN</td>\n",
       "      <td>NaN</td>\n",
       "      <td>2.0</td>\n",
       "      <td>NaN</td>\n",
       "      <td>NaN</td>\n",
       "      <td>1.0</td>\n",
       "      <td>3.0</td>\n",
       "      <td>10.0</td>\n",
       "      <td>2.0</td>\n",
       "      <td>...</td>\n",
       "      <td>NaN</td>\n",
       "      <td>NaN</td>\n",
       "      <td>NaN</td>\n",
       "      <td>NaN</td>\n",
       "      <td>NaN</td>\n",
       "      <td>NaN</td>\n",
       "      <td>NaN</td>\n",
       "      <td>NaN</td>\n",
       "      <td>NaN</td>\n",
       "      <td>NaN</td>\n",
       "    </tr>\n",
       "    <tr>\n",
       "      <th>2012-12-30</th>\n",
       "      <td>7.0</td>\n",
       "      <td>NaN</td>\n",
       "      <td>4.0</td>\n",
       "      <td>4.0</td>\n",
       "      <td>NaN</td>\n",
       "      <td>NaN</td>\n",
       "      <td>8.0</td>\n",
       "      <td>NaN</td>\n",
       "      <td>7.0</td>\n",
       "      <td>1.0</td>\n",
       "      <td>...</td>\n",
       "      <td>NaN</td>\n",
       "      <td>NaN</td>\n",
       "      <td>NaN</td>\n",
       "      <td>NaN</td>\n",
       "      <td>NaN</td>\n",
       "      <td>NaN</td>\n",
       "      <td>NaN</td>\n",
       "      <td>NaN</td>\n",
       "      <td>NaN</td>\n",
       "      <td>NaN</td>\n",
       "    </tr>\n",
       "    <tr>\n",
       "      <th>2012-12-31</th>\n",
       "      <td>1.0</td>\n",
       "      <td>NaN</td>\n",
       "      <td>1.0</td>\n",
       "      <td>6.0</td>\n",
       "      <td>NaN</td>\n",
       "      <td>NaN</td>\n",
       "      <td>NaN</td>\n",
       "      <td>2.0</td>\n",
       "      <td>14.0</td>\n",
       "      <td>NaN</td>\n",
       "      <td>...</td>\n",
       "      <td>NaN</td>\n",
       "      <td>NaN</td>\n",
       "      <td>NaN</td>\n",
       "      <td>NaN</td>\n",
       "      <td>NaN</td>\n",
       "      <td>NaN</td>\n",
       "      <td>NaN</td>\n",
       "      <td>NaN</td>\n",
       "      <td>NaN</td>\n",
       "      <td>NaN</td>\n",
       "    </tr>\n",
       "  </tbody>\n",
       "</table>\n",
       "<p>366 rows × 23 columns</p>\n",
       "</div>"
      ],
      "text/plain": [
       "             Fog  Freezing Drizzle  Mostly Cloudy  Cloudy  Rain  Rain Showers  \\\n",
       "2012-01-01  16.0               2.0            1.0     4.0   2.0           1.0   \n",
       "2012-01-02   NaN               NaN           16.0     2.0   NaN           1.0   \n",
       "2012-01-03   NaN               NaN            6.0     3.0   NaN           NaN   \n",
       "2012-01-04   NaN               NaN            5.0     3.0   NaN           NaN   \n",
       "2012-01-05   NaN               NaN            NaN     2.0   NaN           NaN   \n",
       "...          ...               ...            ...     ...   ...           ...   \n",
       "2012-12-27   NaN               2.0            NaN     3.0   NaN           NaN   \n",
       "2012-12-28   NaN               3.0            2.0     3.0   NaN           NaN   \n",
       "2012-12-29  19.0               NaN            NaN     2.0   NaN           NaN   \n",
       "2012-12-30   7.0               NaN            4.0     4.0   NaN           NaN   \n",
       "2012-12-31   1.0               NaN            1.0     6.0   NaN           NaN   \n",
       "\n",
       "            Mainly Clear  Snow Showers  Snow  Clear  ...  Blowing Snow  \\\n",
       "2012-01-01           NaN           NaN   NaN    NaN  ...           NaN   \n",
       "2012-01-02           1.0           4.0   NaN    NaN  ...           NaN   \n",
       "2012-01-03           8.0           5.0   1.0    1.0  ...           NaN   \n",
       "2012-01-04           5.0           NaN  11.0    NaN  ...           NaN   \n",
       "2012-01-05           9.0           NaN   9.0    4.0  ...           NaN   \n",
       "...                  ...           ...   ...    ...  ...           ...   \n",
       "2012-12-27           NaN           NaN  17.0    NaN  ...          10.0   \n",
       "2012-12-28          13.0           NaN   5.0    1.0  ...           NaN   \n",
       "2012-12-29           1.0           3.0  10.0    2.0  ...           NaN   \n",
       "2012-12-30           8.0           NaN   7.0    1.0  ...           NaN   \n",
       "2012-12-31           NaN           2.0  14.0    NaN  ...           NaN   \n",
       "\n",
       "            Freezing Fog  Haze  Drizzle  Ice Pellets  Thunderstorms  \\\n",
       "2012-01-01           NaN   NaN      NaN          NaN            NaN   \n",
       "2012-01-02           NaN   NaN      NaN          NaN            NaN   \n",
       "2012-01-03           NaN   NaN      NaN          NaN            NaN   \n",
       "2012-01-04           NaN   NaN      NaN          NaN            NaN   \n",
       "2012-01-05           NaN   NaN      NaN          NaN            NaN   \n",
       "...                  ...   ...      ...          ...            ...   \n",
       "2012-12-27           NaN   NaN      NaN          NaN            NaN   \n",
       "2012-12-28           NaN   NaN      NaN          NaN            NaN   \n",
       "2012-12-29           NaN   NaN      NaN          NaN            NaN   \n",
       "2012-12-30           NaN   NaN      NaN          NaN            NaN   \n",
       "2012-12-31           NaN   NaN      NaN          NaN            NaN   \n",
       "\n",
       "            Heavy Rain Showers  Moderate Rain Showers  Snow Pellets  \\\n",
       "2012-01-01                 NaN                    NaN           NaN   \n",
       "2012-01-02                 NaN                    NaN           NaN   \n",
       "2012-01-03                 NaN                    NaN           NaN   \n",
       "2012-01-04                 NaN                    NaN           NaN   \n",
       "2012-01-05                 NaN                    NaN           NaN   \n",
       "...                        ...                    ...           ...   \n",
       "2012-12-27                 NaN                    NaN           NaN   \n",
       "2012-12-28                 NaN                    NaN           NaN   \n",
       "2012-12-29                 NaN                    NaN           NaN   \n",
       "2012-12-30                 NaN                    NaN           NaN   \n",
       "2012-12-31                 NaN                    NaN           NaN   \n",
       "\n",
       "            Moderate Rain  \n",
       "2012-01-01            NaN  \n",
       "2012-01-02            NaN  \n",
       "2012-01-03            NaN  \n",
       "2012-01-04            NaN  \n",
       "2012-01-05            NaN  \n",
       "...                   ...  \n",
       "2012-12-27            NaN  \n",
       "2012-12-28            NaN  \n",
       "2012-12-29            NaN  \n",
       "2012-12-30            NaN  \n",
       "2012-12-31            NaN  \n",
       "\n",
       "[366 rows x 23 columns]"
      ]
     },
     "execution_count": 13,
     "metadata": {},
     "output_type": "execute_result"
    }
   ],
   "source": [
    "df_weather"
   ]
  },
  {
   "cell_type": "markdown",
   "metadata": {},
   "source": [
    "## 2.7. Datenvorbereitung für KNN\n",
    "Die Spalte \"weather\" wird so gefiltert, jeder Wettertyp einmal ausgegeben wird.\n",
    "Da diese in einer Zeile mehrere Wettertypen vorkommen können müssen diese noch getrennt werden, sodass jeder Wettertyp nur einmal vorhanden ist."
   ]
  },
  {
   "cell_type": "code",
   "execution_count": 14,
   "metadata": {
    "ExecuteTime": {
     "end_time": "2020-06-19T06:08:18.987918Z",
     "start_time": "2020-06-19T06:08:18.953921Z"
    }
   },
   "outputs": [
    {
     "data": {
      "text/plain": [
       "array(['Fog', 'Freezing Drizzle,Fog', 'Mostly Cloudy', 'Cloudy', 'Rain',\n",
       "       'Rain Showers', 'Mainly Clear', 'Snow Showers', 'Snow', 'Clear',\n",
       "       'Freezing Rain,Fog', 'Freezing Rain', 'Freezing Drizzle',\n",
       "       'Rain,Snow', 'Moderate Snow', 'Freezing Drizzle,Snow',\n",
       "       'Freezing Rain,Snow Grains', 'Snow,Blowing Snow', 'Freezing Fog',\n",
       "       'Haze', 'Rain,Fog', 'Drizzle,Fog', 'Drizzle',\n",
       "       'Freezing Drizzle,Haze', 'Freezing Rain,Haze', 'Snow,Haze',\n",
       "       'Snow,Fog', 'Snow,Ice Pellets', 'Rain,Haze', 'Thunderstorms,Rain',\n",
       "       'Thunderstorms,Rain Showers', 'Thunderstorms,Heavy Rain Showers',\n",
       "       'Thunderstorms,Rain Showers,Fog', 'Thunderstorms',\n",
       "       'Thunderstorms,Rain,Fog',\n",
       "       'Thunderstorms,Moderate Rain Showers,Fog', 'Rain Showers,Fog',\n",
       "       'Rain Showers,Snow Showers', 'Snow Pellets', 'Rain,Snow,Fog',\n",
       "       'Moderate Rain,Fog', 'Freezing Rain,Ice Pellets,Fog',\n",
       "       'Drizzle,Ice Pellets,Fog', 'Drizzle,Snow', 'Rain,Ice Pellets',\n",
       "       'Drizzle,Snow,Fog', 'Rain,Snow Grains', 'Rain,Snow,Ice Pellets',\n",
       "       'Snow Showers,Fog', 'Moderate Snow,Blowing Snow'], dtype=object)"
      ]
     },
     "execution_count": 14,
     "metadata": {},
     "output_type": "execute_result"
    }
   ],
   "source": [
    "df['Weather'].unique()"
   ]
  },
  {
   "cell_type": "code",
   "execution_count": 15,
   "metadata": {
    "ExecuteTime": {
     "end_time": "2020-06-19T06:08:19.025916Z",
     "start_time": "2020-06-19T06:08:18.991919Z"
    }
   },
   "outputs": [],
   "source": [
    "#Split Label into targets and only use first weather description\n",
    "df['Weather'] = df['Weather'].apply(lambda x: x.split(',')).apply(lambda x: x[0])"
   ]
  },
  {
   "cell_type": "code",
   "execution_count": 16,
   "metadata": {
    "ExecuteTime": {
     "end_time": "2020-06-19T06:08:19.059939Z",
     "start_time": "2020-06-19T06:08:19.029915Z"
    }
   },
   "outputs": [
    {
     "data": {
      "text/plain": [
       "array(['Fog', 'Freezing Drizzle', 'Mostly Cloudy', 'Cloudy', 'Rain',\n",
       "       'Rain Showers', 'Mainly Clear', 'Snow Showers', 'Snow', 'Clear',\n",
       "       'Freezing Rain', 'Moderate Snow', 'Freezing Fog', 'Haze',\n",
       "       'Drizzle', 'Thunderstorms', 'Snow Pellets', 'Moderate Rain'],\n",
       "      dtype=object)"
      ]
     },
     "execution_count": 16,
     "metadata": {},
     "output_type": "execute_result"
    }
   ],
   "source": [
    "df['Weather'].unique()"
   ]
  },
  {
   "cell_type": "code",
   "execution_count": 17,
   "metadata": {
    "ExecuteTime": {
     "end_time": "2020-06-19T06:08:19.103917Z",
     "start_time": "2020-06-19T06:08:19.063919Z"
    }
   },
   "outputs": [
    {
     "data": {
      "text/plain": [
       "(array([1326, 1728,  139,  150,   27,    4,   22,   16, 2106,    1,    6,\n",
       "        2069,  450,  191,  457,    1,   64,   27]),\n",
       " array(['Clear', 'Cloudy', 'Drizzle', 'Fog', 'Freezing Drizzle',\n",
       "        'Freezing Fog', 'Freezing Rain', 'Haze', 'Mainly Clear',\n",
       "        'Moderate Rain', 'Moderate Snow', 'Mostly Cloudy', 'Rain',\n",
       "        'Rain Showers', 'Snow', 'Snow Pellets', 'Snow Showers',\n",
       "        'Thunderstorms'], dtype=object))"
      ]
     },
     "execution_count": 17,
     "metadata": {},
     "output_type": "execute_result"
    }
   ],
   "source": [
    "unique_col_count = np.unique(df['Weather'], return_counts=True)[1]\n",
    "unique_col = np.unique(df['Weather'], return_counts=True)[0]\n",
    "unique_col_count, unique_col"
   ]
  },
  {
   "cell_type": "code",
   "execution_count": 18,
   "metadata": {
    "ExecuteTime": {
     "end_time": "2020-06-19T06:08:19.300916Z",
     "start_time": "2020-06-19T06:08:19.107916Z"
    }
   },
   "outputs": [],
   "source": [
    "#Drop labels that appear less than 50 times in the dataset\n",
    "df['Weather'] = df['Weather'].apply(lambda x: x if x in unique_col[unique_col_count > 50] else None)\n",
    "df = df.dropna()"
   ]
  },
  {
   "cell_type": "markdown",
   "metadata": {},
   "source": [
    "## 2.8. Label Encoder \n",
    "Wörter werden mit dem Label Encoder umgewandelt, sodass sie vom Algorithmus verstanden werden.\n",
    "'wort'-label werden zu 'zahlen'-label umgewandelt.\n",
    "https://scikit-learn.org/stable/modules/generated/sklearn.preprocessing.LabelEncoder.html"
   ]
  },
  {
   "cell_type": "code",
   "execution_count": 19,
   "metadata": {
    "ExecuteTime": {
     "end_time": "2020-06-19T06:18:52.518544Z",
     "start_time": "2020-06-19T06:18:52.504523Z"
    }
   },
   "outputs": [],
   "source": [
    "from sklearn.preprocessing import LabelEncoder\n",
    "\n",
    "X = df.drop(['Weather', 'Date/Time'], axis=1)\n",
    "y = LabelEncoder().fit_transform(df['Weather'])"
   ]
  },
  {
   "cell_type": "markdown",
   "metadata": {},
   "source": [
    "## 2.9. Aufteilen des Datensatz \n",
    "Der Datensatz wir Trainings und Test Daten aufgeteilt. Dies dient dazu, die Trainigsdaten mithilfe der Testdaten zu validieren. "
   ]
  },
  {
   "cell_type": "code",
   "execution_count": 20,
   "metadata": {
    "ExecuteTime": {
     "end_time": "2020-06-19T06:23:31.187727Z",
     "start_time": "2020-06-19T06:23:31.174731Z"
    }
   },
   "outputs": [],
   "source": [
    "from sklearn.model_selection import train_test_split\n",
    "\n",
    "X_train, X_test, y_train, y_test = train_test_split(X, y, test_size=0.2)"
   ]
  },
  {
   "cell_type": "markdown",
   "metadata": {},
   "source": [
    "datenpunkte * spalten"
   ]
  },
  {
   "cell_type": "code",
   "execution_count": 21,
   "metadata": {
    "ExecuteTime": {
     "end_time": "2020-06-19T06:23:41.894702Z",
     "start_time": "2020-06-19T06:23:41.887700Z"
    }
   },
   "outputs": [
    {
     "data": {
      "text/plain": [
       "((8680, 6), (6944, 6), (1736, 6))"
      ]
     },
     "execution_count": 21,
     "metadata": {},
     "output_type": "execute_result"
    }
   ],
   "source": [
    "X.shape, X_train.shape, X_test.shape"
   ]
  },
  {
   "cell_type": "markdown",
   "metadata": {},
   "source": [
    "# 3. Datenbearbeitung\n",
    "\n",
    "\n",
    "Um eine Wettervorhersage treffen zu können nutzen wir überwachtes lernen (supervised learning), das heißt der Algorithmus lernt eine Funktion aus gegebenen Paaren von Ein- und Ausgaben. Ziel beim überwachten Lernen ist, dass dem Netz nach mehreren Rechengängen mit unterschiedlichen Ein- und Ausgaben die Fähigkeit antrainiert wird, Assoziationen herzustellen [Quelle: https://de.wikipedia.org/wiki/Maschinelles_Lernen#Überwachtes_Lernen].\n",
    "\n",
    "\n",
    "## 3.1 k-Nearest-Neighbor-Algorithmus (KNN)\n",
    "\n",
    "Wir nutzen den k-Nearest-Neighbor-Algorithmus mithilfe der Pythonbibliothek Sklearn.\n",
    "\n",
    "Sklearn Model API: <br>\n",
    ".fit(X_train, y_train) -> training, <br>\n",
    ".score(X_test, y_test) -> evaluieren, <br>\n",
    ".predict(X_test) -> vorhersagen"
   ]
  },
  {
   "cell_type": "code",
   "execution_count": 22,
   "metadata": {
    "ExecuteTime": {
     "end_time": "2020-06-19T06:08:23.234443Z",
     "start_time": "2020-06-19T06:08:21.220919Z"
    }
   },
   "outputs": [
    {
     "data": {
      "text/plain": [
       "0.5936059907834101"
      ]
     },
     "execution_count": 22,
     "metadata": {},
     "output_type": "execute_result"
    }
   ],
   "source": [
    "from sklearn.neighbors import KNeighborsClassifier\n",
    "\n",
    "knn = KNeighborsClassifier(n_neighbors=5)\n",
    "\n",
    "knn.fit(X_train, y_train)\n",
    "knn.score(X_train, y_train)"
   ]
  },
  {
   "cell_type": "markdown",
   "metadata": {},
   "source": [
    "### Precision und Recall Methoden von sklearn\n",
    "Precision-Recall ist ein nützliches Maß für den Erfolg der Vorhersage, wenn die Klassen sehr unausgewogen sind. Beim Abrufen von Informationen ist die Genauigkeit (precision) ein Maß für die Relevanz der Ergebnisse, während der Rückruf (recall) ein Maß dafür ist, wie viele wirklich relevante Ergebnisse zurückgegeben werden.\n",
    "\n",
    "https://scikit-learn.org/stable/auto_examples/model_selection/plot_precision_recall.html"
   ]
  },
  {
   "cell_type": "code",
   "execution_count": 23,
   "metadata": {
    "ExecuteTime": {
     "end_time": "2020-06-19T06:33:46.251369Z",
     "start_time": "2020-06-19T06:33:46.032370Z"
    }
   },
   "outputs": [
    {
     "data": {
      "text/plain": [
       "('Precision', 0.40211900142705115, 'Recall', 0.37939923979974044)"
      ]
     },
     "execution_count": 23,
     "metadata": {},
     "output_type": "execute_result"
    }
   ],
   "source": [
    "from sklearn.metrics import precision_score, recall_score\n",
    "\n",
    "y_pred = knn.predict(X_test)\n",
    "\n",
    "'Precision', precision_score(y_test, y_pred, average='macro'), 'Recall', recall_score(y_test, y_pred, average='macro')"
   ]
  },
  {
   "cell_type": "code",
   "execution_count": 24,
   "metadata": {
    "ExecuteTime": {
     "end_time": "2020-06-19T06:08:23.470448Z",
     "start_time": "2020-06-19T06:08:23.237445Z"
    }
   },
   "outputs": [
    {
     "data": {
      "text/plain": [
       "0.4153225806451613"
      ]
     },
     "execution_count": 24,
     "metadata": {},
     "output_type": "execute_result"
    }
   ],
   "source": [
    "knn.score(X_test, y_test)"
   ]
  },
  {
   "cell_type": "code",
   "execution_count": 25,
   "metadata": {
    "ExecuteTime": {
     "end_time": "2020-06-19T06:41:43.081561Z",
     "start_time": "2020-06-19T06:41:32.182557Z"
    }
   },
   "outputs": [
    {
     "name": "stdout",
     "output_type": "stream",
     "text": [
      "Max Depth 3, Train Score 0.6483294930875576, Test Score 0.3922811059907834\n",
      "Max Depth 5, Train Score 0.5936059907834101, Test Score 0.4153225806451613\n",
      "Max Depth 7, Train Score 0.5591877880184332, Test Score 0.41013824884792627\n",
      "Max Depth 9, Train Score 0.5400345622119815, Test Score 0.40956221198156684\n",
      "Max Depth 11, Train Score 0.530241935483871, Test Score 0.4176267281105991\n",
      "Max Depth 13, Train Score 0.5184331797235023, Test Score 0.4049539170506912\n",
      "Max Depth 15, Train Score 0.5082085253456221, Test Score 0.4049539170506912\n",
      "Max Depth 17, Train Score 0.49855990783410137, Test Score 0.4084101382488479\n",
      "Max Depth 19, Train Score 0.49035138248847926, Test Score 0.4112903225806452\n",
      "Max Depth 21, Train Score 0.483294930875576, Test Score 0.4078341013824885\n",
      "Max Depth 23, Train Score 0.4814228110599078, Test Score 0.40956221198156684\n"
     ]
    }
   ],
   "source": [
    "max_depths = []\n",
    "train_scores = []\n",
    "test_scores = []\n",
    "\n",
    "for i in range(3, 25, 2):\n",
    "    \n",
    "    max_depths.append(i)\n",
    "    \n",
    "    rfc = KNeighborsClassifier(n_neighbors=i)\n",
    "    rfc.fit(X_train, y_train)\n",
    "    \n",
    "    train_score = rfc.score(X_train, y_train)\n",
    "    train_scores.append(train_score)\n",
    "    \n",
    "    test_score = rfc.score(X_test, y_test)\n",
    "    test_scores.append(test_score)\n",
    "    \n",
    "    print(f'Max Depth {i}, Train Score {train_score}, Test Score {test_score}')"
   ]
  },
  {
   "cell_type": "markdown",
   "metadata": {},
   "source": [
    "Seaborn ist ein package, welches auf matplotlib aufsetzt und welches einfache Methoden zur Visualisierung bietet.\n",
    "Dies nutzen wir um die Ausgabe der accuracy in Bezug auf die Anzahl der betrachteten Nachbarn zu visualisieren."
   ]
  },
  {
   "cell_type": "code",
   "execution_count": 26,
   "metadata": {
    "ExecuteTime": {
     "end_time": "2020-06-19T06:41:43.433556Z",
     "start_time": "2020-06-19T06:41:43.085572Z"
    }
   },
   "outputs": [
    {
     "data": {
      "text/plain": [
       "<matplotlib.legend.Legend at 0x1a1d215080>"
      ]
     },
     "execution_count": 26,
     "metadata": {},
     "output_type": "execute_result"
    },
    {
     "data": {
      "image/png": "[encoded data removed]",
      "text/plain": [
       "<Figure size 432x288 with 1 Axes>"
      ]
     },
     "metadata": {},
     "output_type": "display_data"
    }
   ],
   "source": [
    "sns.lineplot(x=max_depths, y=train_scores, label=\"Train Data\")\n",
    "sns.lineplot(x=max_depths, y=test_scores, label=\"Test Data\")\n",
    "plt.title(\"KNN\")\n",
    "plt.xlabel(\"#Neighbor\")\n",
    "plt.ylabel(\"Accuracy\")\n",
    "plt.legend()"
   ]
  },
  {
   "cell_type": "markdown",
   "metadata": {},
   "source": [
    "## 3.2 Random Forest Classifier\n",
    "Eine random forest classifier ist ein Meta-Schätzer, der eine Reihe von Entscheidungsbaumklassifizierern auf verschiedene Teilstichproben des Datensatzes anpasst und die Mittelwertbildung verwendet, um die Vorhersagegenauigkeit zu verbessern und die Überanpassung zu steuern. \n",
    "\n",
    "https://scikit-learn.org/stable/modules/generated/sklearn.ensemble.RandomForestClassifier.html"
   ]
  },
  {
   "cell_type": "code",
   "execution_count": 27,
   "metadata": {
    "ExecuteTime": {
     "end_time": "2020-06-19T06:47:42.603510Z",
     "start_time": "2020-06-19T06:47:40.090514Z"
    }
   },
   "outputs": [
    {
     "name": "stderr",
     "output_type": "stream",
     "text": [
      "/anaconda3/lib/python3.6/site-packages/sklearn/ensemble/weight_boosting.py:29: DeprecationWarning: numpy.core.umath_tests is an internal NumPy module and should not be imported. It will be removed in a future NumPy release.\n",
      "  from numpy.core.umath_tests import inner1d\n"
     ]
    },
    {
     "data": {
      "text/plain": [
       "0.9783986175115207"
      ]
     },
     "execution_count": 27,
     "metadata": {},
     "output_type": "execute_result"
    }
   ],
   "source": [
    "from sklearn.ensemble import RandomForestClassifier\n",
    "\n",
    "rfc = RandomForestClassifier(max_depth=20)\n",
    "\n",
    "rfc.fit(X_train, y_train)\n",
    "rfc.score(X_train, y_train)"
   ]
  },
  {
   "cell_type": "code",
   "execution_count": 28,
   "metadata": {
    "ExecuteTime": {
     "end_time": "2020-06-19T06:48:00.701029Z",
     "start_time": "2020-06-19T06:48:00.572015Z"
    }
   },
   "outputs": [
    {
     "data": {
      "text/plain": [
       "('Precision', 0.5157347070975419, 'Recall', 0.46751747719207043)"
      ]
     },
     "execution_count": 28,
     "metadata": {},
     "output_type": "execute_result"
    }
   ],
   "source": [
    "y_pred = rfc.predict(X_test)\n",
    "\n",
    "'Precision', precision_score(y_test, y_pred, average='macro'), 'Recall', recall_score(y_test, y_pred, average='macro')"
   ]
  },
  {
   "cell_type": "code",
   "execution_count": 29,
   "metadata": {
    "ExecuteTime": {
     "end_time": "2020-06-19T06:48:38.230548Z",
     "start_time": "2020-06-19T06:48:38.086010Z"
    }
   },
   "outputs": [
    {
     "data": {
      "text/plain": [
       "0.5017281105990783"
      ]
     },
     "execution_count": 29,
     "metadata": {},
     "output_type": "execute_result"
    }
   ],
   "source": [
    "rfc.score(X_test, y_test)"
   ]
  },
  {
   "cell_type": "markdown",
   "metadata": {},
   "source": [
    "Random Forest Grid Search"
   ]
  },
  {
   "cell_type": "code",
   "execution_count": 30,
   "metadata": {
    "ExecuteTime": {
     "end_time": "2020-06-19T06:41:08.516430Z",
     "start_time": "2020-06-19T06:40:52.188428Z"
    }
   },
   "outputs": [
    {
     "name": "stdout",
     "output_type": "stream",
     "text": [
      "Max Depth 5, Train Score 0.45377304147465436, Test Score 0.4130184331797235\n",
      "Max Depth 8, Train Score 0.5622119815668203, Test Score 0.44873271889400923\n",
      "Max Depth 11, Train Score 0.7485599078341014, Test Score 0.47235023041474655\n",
      "Max Depth 14, Train Score 0.8922811059907834, Test Score 0.5097926267281107\n",
      "Max Depth 17, Train Score 0.9644297235023042, Test Score 0.49539170506912444\n",
      "Max Depth 20, Train Score 0.980270737327189, Test Score 0.505184331797235\n",
      "Max Depth 23, Train Score 0.9841589861751152, Test Score 0.4971198156682028\n",
      "Max Depth 26, Train Score 0.9861751152073732, Test Score 0.49539170506912444\n"
     ]
    }
   ],
   "source": [
    "max_depths = []\n",
    "train_scores = []\n",
    "test_scores = []\n",
    "\n",
    "for i in range(5, 27, 3):\n",
    "    \n",
    "    max_depths.append(i)\n",
    "    \n",
    "    rfc = RandomForestClassifier(max_depth=i)\n",
    "    rfc.fit(X_train, y_train)\n",
    "    \n",
    "    train_score = rfc.score(X_train, y_train)\n",
    "    train_scores.append(train_score)\n",
    "    \n",
    "    test_score = rfc.score(X_test, y_test)\n",
    "    test_scores.append(test_score)\n",
    "    \n",
    "    print(f'Max Depth {i}, Train Score {train_score}, Test Score {test_score}')"
   ]
  },
  {
   "cell_type": "code",
   "execution_count": 31,
   "metadata": {
    "ExecuteTime": {
     "end_time": "2020-06-19T06:41:08.851431Z",
     "start_time": "2020-06-19T06:41:08.520432Z"
    }
   },
   "outputs": [
    {
     "data": {
      "text/plain": [
       "<matplotlib.legend.Legend at 0x1a1c99e860>"
      ]
     },
     "execution_count": 31,
     "metadata": {},
     "output_type": "execute_result"
    },
    {
     "data": {
      "image/png": "[encoded data removed]",
      "text/plain": [
       "<Figure size 432x288 with 1 Axes>"
      ]
     },
     "metadata": {},
     "output_type": "display_data"
    }
   ],
   "source": [
    "sns.lineplot(x=max_depths, y=train_scores, label=\"Train Data\")\n",
    "sns.lineplot(x=max_depths, y=test_scores, label=\"Test Data\")\n",
    "plt.title(\"Random Forest\")\n",
    "plt.xlabel(\"Max Depht\")\n",
    "plt.ylabel(\"Accuracy\")\n",
    "plt.legend()"
   ]
  },
  {
   "cell_type": "code",
   "execution_count": null,
   "metadata": {},
   "outputs": [],
   "source": []
  }
 ],
 "metadata": {
  "kernelspec": {
   "display_name": "Python 3",
   "language": "python",
   "name": "python3"
  },
  "language_info": {
   "codemirror_mode": {
    "name": "ipython",
    "version": 3
   },
   "file_extension": ".py",
   "mimetype": "text/x-python",
   "name": "python",
   "nbconvert_exporter": "python",
   "pygments_lexer": "ipython3",
   "version": "3.6.8"
  }
 },
 "nbformat": 4,
 "nbformat_minor": 2
}
